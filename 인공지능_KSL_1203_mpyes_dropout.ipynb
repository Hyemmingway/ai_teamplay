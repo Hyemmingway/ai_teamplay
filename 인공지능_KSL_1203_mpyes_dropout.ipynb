{
  "cells": [
    {
      "cell_type": "markdown",
      "metadata": {
        "id": "view-in-github",
        "colab_type": "text"
      },
      "source": [
        "<a href=\"https://colab.research.google.com/github/Hyemmingway/ai_teamplay/blob/main/%EC%9D%B8%EA%B3%B5%EC%A7%80%EB%8A%A5_KSL_1203_mpyes_dropout.ipynb\" target=\"_parent\"><img src=\"https://colab.research.google.com/assets/colab-badge.svg\" alt=\"Open In Colab\"/></a>"
      ]
    },
    {
      "cell_type": "markdown",
      "id": "731376d1",
      "metadata": {
        "id": "731376d1"
      },
      "source": [
        "## 0. 모듈 불러오기"
      ]
    },
    {
      "cell_type": "code",
      "execution_count": 2,
      "id": "52d4c3d5",
      "metadata": {
        "id": "52d4c3d5"
      },
      "outputs": [],
      "source": [
        "import os\n",
        "import glob\n",
        "from pathlib import Path\n",
        "\n",
        "import pandas as pd\n",
        "import numpy as np\n",
        "import seaborn as sns\n",
        "import matplotlib.pyplot as plt\n",
        "import random\n",
        "import math\n",
        "\n",
        "import pickle\n",
        "import cv2\n",
        "#import mediapipe as mp\n",
        "\n",
        "from tensorflow.keras.preprocessing.image import ImageDataGenerator"
      ]
    },
    {
      "cell_type": "code",
      "source": [
        "from google.colab import drive\n",
        "drive.mount('/content/drive')"
      ],
      "metadata": {
        "colab": {
          "base_uri": "https://localhost:8080/"
        },
        "id": "UMh4UMFnMBGO",
        "outputId": "5195bf1e-1490-478b-dd48-3290ab7b0be4"
      },
      "id": "UMh4UMFnMBGO",
      "execution_count": 1,
      "outputs": [
        {
          "output_type": "stream",
          "name": "stdout",
          "text": [
            "Mounted at /content/drive\n"
          ]
        }
      ]
    },
    {
      "cell_type": "markdown",
      "id": "d123d904",
      "metadata": {
        "id": "d123d904"
      },
      "source": [
        "## 1. 데이터 확인"
      ]
    },
    {
      "cell_type": "code",
      "execution_count": 3,
      "id": "94304a5b",
      "metadata": {
        "colab": {
          "base_uri": "https://localhost:8080/",
          "height": 424
        },
        "id": "94304a5b",
        "outputId": "dbbb4e43-8891-4086-ae94-7f037255682f"
      },
      "outputs": [
        {
          "output_type": "execute_result",
          "data": {
            "text/plain": [
              "                name   fold  class  num  \\\n",
              "0     00_01.0045.jpg  00_01      1   45   \n",
              "1     00_01.0046.jpg  00_01      1   46   \n",
              "2     00_01.0047.jpg  00_01      1   47   \n",
              "3     00_01.0048.jpg  00_01      1   48   \n",
              "4     00_01.0049.jpg  00_01      1   49   \n",
              "...              ...    ...    ...  ...   \n",
              "3595  19_77.0072.jpg  19_77     77   72   \n",
              "3596  19_77.0073.jpg  19_77     77   73   \n",
              "3597  19_77.0074.jpg  19_77     77   74   \n",
              "3598  19_77.0075.jpg  19_77     77   75   \n",
              "3599  19_77.0076.jpg  19_77     77   76   \n",
              "\n",
              "                                                   path label  \n",
              "0     /content/drive/MyDrive/2022-2 ipynb/AISTAT/num...    hi  \n",
              "1     /content/drive/MyDrive/2022-2 ipynb/AISTAT/num...    hi  \n",
              "2     /content/drive/MyDrive/2022-2 ipynb/AISTAT/num...    hi  \n",
              "3     /content/drive/MyDrive/2022-2 ipynb/AISTAT/num...    hi  \n",
              "4     /content/drive/MyDrive/2022-2 ipynb/AISTAT/num...    hi  \n",
              "...                                                 ...   ...  \n",
              "3595  /content/drive/MyDrive/2022-2 ipynb/AISTAT/num...  care  \n",
              "3596  /content/drive/MyDrive/2022-2 ipynb/AISTAT/num...  care  \n",
              "3597  /content/drive/MyDrive/2022-2 ipynb/AISTAT/num...  care  \n",
              "3598  /content/drive/MyDrive/2022-2 ipynb/AISTAT/num...  care  \n",
              "3599  /content/drive/MyDrive/2022-2 ipynb/AISTAT/num...  care  \n",
              "\n",
              "[3600 rows x 6 columns]"
            ],
            "text/html": [
              "\n",
              "  <div id=\"df-268a4175-0e36-4571-95ed-bd25986bc347\">\n",
              "    <div class=\"colab-df-container\">\n",
              "      <div>\n",
              "<style scoped>\n",
              "    .dataframe tbody tr th:only-of-type {\n",
              "        vertical-align: middle;\n",
              "    }\n",
              "\n",
              "    .dataframe tbody tr th {\n",
              "        vertical-align: top;\n",
              "    }\n",
              "\n",
              "    .dataframe thead th {\n",
              "        text-align: right;\n",
              "    }\n",
              "</style>\n",
              "<table border=\"1\" class=\"dataframe\">\n",
              "  <thead>\n",
              "    <tr style=\"text-align: right;\">\n",
              "      <th></th>\n",
              "      <th>name</th>\n",
              "      <th>fold</th>\n",
              "      <th>class</th>\n",
              "      <th>num</th>\n",
              "      <th>path</th>\n",
              "      <th>label</th>\n",
              "    </tr>\n",
              "  </thead>\n",
              "  <tbody>\n",
              "    <tr>\n",
              "      <th>0</th>\n",
              "      <td>00_01.0045.jpg</td>\n",
              "      <td>00_01</td>\n",
              "      <td>1</td>\n",
              "      <td>45</td>\n",
              "      <td>/content/drive/MyDrive/2022-2 ipynb/AISTAT/num...</td>\n",
              "      <td>hi</td>\n",
              "    </tr>\n",
              "    <tr>\n",
              "      <th>1</th>\n",
              "      <td>00_01.0046.jpg</td>\n",
              "      <td>00_01</td>\n",
              "      <td>1</td>\n",
              "      <td>46</td>\n",
              "      <td>/content/drive/MyDrive/2022-2 ipynb/AISTAT/num...</td>\n",
              "      <td>hi</td>\n",
              "    </tr>\n",
              "    <tr>\n",
              "      <th>2</th>\n",
              "      <td>00_01.0047.jpg</td>\n",
              "      <td>00_01</td>\n",
              "      <td>1</td>\n",
              "      <td>47</td>\n",
              "      <td>/content/drive/MyDrive/2022-2 ipynb/AISTAT/num...</td>\n",
              "      <td>hi</td>\n",
              "    </tr>\n",
              "    <tr>\n",
              "      <th>3</th>\n",
              "      <td>00_01.0048.jpg</td>\n",
              "      <td>00_01</td>\n",
              "      <td>1</td>\n",
              "      <td>48</td>\n",
              "      <td>/content/drive/MyDrive/2022-2 ipynb/AISTAT/num...</td>\n",
              "      <td>hi</td>\n",
              "    </tr>\n",
              "    <tr>\n",
              "      <th>4</th>\n",
              "      <td>00_01.0049.jpg</td>\n",
              "      <td>00_01</td>\n",
              "      <td>1</td>\n",
              "      <td>49</td>\n",
              "      <td>/content/drive/MyDrive/2022-2 ipynb/AISTAT/num...</td>\n",
              "      <td>hi</td>\n",
              "    </tr>\n",
              "    <tr>\n",
              "      <th>...</th>\n",
              "      <td>...</td>\n",
              "      <td>...</td>\n",
              "      <td>...</td>\n",
              "      <td>...</td>\n",
              "      <td>...</td>\n",
              "      <td>...</td>\n",
              "    </tr>\n",
              "    <tr>\n",
              "      <th>3595</th>\n",
              "      <td>19_77.0072.jpg</td>\n",
              "      <td>19_77</td>\n",
              "      <td>77</td>\n",
              "      <td>72</td>\n",
              "      <td>/content/drive/MyDrive/2022-2 ipynb/AISTAT/num...</td>\n",
              "      <td>care</td>\n",
              "    </tr>\n",
              "    <tr>\n",
              "      <th>3596</th>\n",
              "      <td>19_77.0073.jpg</td>\n",
              "      <td>19_77</td>\n",
              "      <td>77</td>\n",
              "      <td>73</td>\n",
              "      <td>/content/drive/MyDrive/2022-2 ipynb/AISTAT/num...</td>\n",
              "      <td>care</td>\n",
              "    </tr>\n",
              "    <tr>\n",
              "      <th>3597</th>\n",
              "      <td>19_77.0074.jpg</td>\n",
              "      <td>19_77</td>\n",
              "      <td>77</td>\n",
              "      <td>74</td>\n",
              "      <td>/content/drive/MyDrive/2022-2 ipynb/AISTAT/num...</td>\n",
              "      <td>care</td>\n",
              "    </tr>\n",
              "    <tr>\n",
              "      <th>3598</th>\n",
              "      <td>19_77.0075.jpg</td>\n",
              "      <td>19_77</td>\n",
              "      <td>77</td>\n",
              "      <td>75</td>\n",
              "      <td>/content/drive/MyDrive/2022-2 ipynb/AISTAT/num...</td>\n",
              "      <td>care</td>\n",
              "    </tr>\n",
              "    <tr>\n",
              "      <th>3599</th>\n",
              "      <td>19_77.0076.jpg</td>\n",
              "      <td>19_77</td>\n",
              "      <td>77</td>\n",
              "      <td>76</td>\n",
              "      <td>/content/drive/MyDrive/2022-2 ipynb/AISTAT/num...</td>\n",
              "      <td>care</td>\n",
              "    </tr>\n",
              "  </tbody>\n",
              "</table>\n",
              "<p>3600 rows × 6 columns</p>\n",
              "</div>\n",
              "      <button class=\"colab-df-convert\" onclick=\"convertToInteractive('df-268a4175-0e36-4571-95ed-bd25986bc347')\"\n",
              "              title=\"Convert this dataframe to an interactive table.\"\n",
              "              style=\"display:none;\">\n",
              "        \n",
              "  <svg xmlns=\"http://www.w3.org/2000/svg\" height=\"24px\"viewBox=\"0 0 24 24\"\n",
              "       width=\"24px\">\n",
              "    <path d=\"M0 0h24v24H0V0z\" fill=\"none\"/>\n",
              "    <path d=\"M18.56 5.44l.94 2.06.94-2.06 2.06-.94-2.06-.94-.94-2.06-.94 2.06-2.06.94zm-11 1L8.5 8.5l.94-2.06 2.06-.94-2.06-.94L8.5 2.5l-.94 2.06-2.06.94zm10 10l.94 2.06.94-2.06 2.06-.94-2.06-.94-.94-2.06-.94 2.06-2.06.94z\"/><path d=\"M17.41 7.96l-1.37-1.37c-.4-.4-.92-.59-1.43-.59-.52 0-1.04.2-1.43.59L10.3 9.45l-7.72 7.72c-.78.78-.78 2.05 0 2.83L4 21.41c.39.39.9.59 1.41.59.51 0 1.02-.2 1.41-.59l7.78-7.78 2.81-2.81c.8-.78.8-2.07 0-2.86zM5.41 20L4 18.59l7.72-7.72 1.47 1.35L5.41 20z\"/>\n",
              "  </svg>\n",
              "      </button>\n",
              "      \n",
              "  <style>\n",
              "    .colab-df-container {\n",
              "      display:flex;\n",
              "      flex-wrap:wrap;\n",
              "      gap: 12px;\n",
              "    }\n",
              "\n",
              "    .colab-df-convert {\n",
              "      background-color: #E8F0FE;\n",
              "      border: none;\n",
              "      border-radius: 50%;\n",
              "      cursor: pointer;\n",
              "      display: none;\n",
              "      fill: #1967D2;\n",
              "      height: 32px;\n",
              "      padding: 0 0 0 0;\n",
              "      width: 32px;\n",
              "    }\n",
              "\n",
              "    .colab-df-convert:hover {\n",
              "      background-color: #E2EBFA;\n",
              "      box-shadow: 0px 1px 2px rgba(60, 64, 67, 0.3), 0px 1px 3px 1px rgba(60, 64, 67, 0.15);\n",
              "      fill: #174EA6;\n",
              "    }\n",
              "\n",
              "    [theme=dark] .colab-df-convert {\n",
              "      background-color: #3B4455;\n",
              "      fill: #D2E3FC;\n",
              "    }\n",
              "\n",
              "    [theme=dark] .colab-df-convert:hover {\n",
              "      background-color: #434B5C;\n",
              "      box-shadow: 0px 1px 3px 1px rgba(0, 0, 0, 0.15);\n",
              "      filter: drop-shadow(0px 1px 2px rgba(0, 0, 0, 0.3));\n",
              "      fill: #FFFFFF;\n",
              "    }\n",
              "  </style>\n",
              "\n",
              "      <script>\n",
              "        const buttonEl =\n",
              "          document.querySelector('#df-268a4175-0e36-4571-95ed-bd25986bc347 button.colab-df-convert');\n",
              "        buttonEl.style.display =\n",
              "          google.colab.kernel.accessAllowed ? 'block' : 'none';\n",
              "\n",
              "        async function convertToInteractive(key) {\n",
              "          const element = document.querySelector('#df-268a4175-0e36-4571-95ed-bd25986bc347');\n",
              "          const dataTable =\n",
              "            await google.colab.kernel.invokeFunction('convertToInteractive',\n",
              "                                                     [key], {});\n",
              "          if (!dataTable) return;\n",
              "\n",
              "          const docLinkHtml = 'Like what you see? Visit the ' +\n",
              "            '<a target=\"_blank\" href=https://colab.research.google.com/notebooks/data_table.ipynb>data table notebook</a>'\n",
              "            + ' to learn more about interactive tables.';\n",
              "          element.innerHTML = '';\n",
              "          dataTable['output_type'] = 'display_data';\n",
              "          await google.colab.output.renderOutput(dataTable, element);\n",
              "          const docLink = document.createElement('div');\n",
              "          docLink.innerHTML = docLinkHtml;\n",
              "          element.appendChild(docLink);\n",
              "        }\n",
              "      </script>\n",
              "    </div>\n",
              "  </div>\n",
              "  "
            ]
          },
          "metadata": {},
          "execution_count": 3
        }
      ],
      "source": [
        "#한 폴더당 중심 동작 20개씩 뽑음\n",
        "select_df=pd.read_csv('/content/drive/MyDrive/2022-2 ipynb/AISTAT/num5 data/DF_select_mp_20 (1).csv')\n",
        "select_df"
      ]
    },
    {
      "cell_type": "code",
      "execution_count": 4,
      "id": "9be71020",
      "metadata": {
        "colab": {
          "base_uri": "https://localhost:8080/"
        },
        "id": "9be71020",
        "outputId": "ca2dd945-ee57-4adf-a996-4c187822d6a2"
      },
      "outputs": [
        {
          "output_type": "stream",
          "name": "stderr",
          "text": [
            "/usr/local/lib/python3.8/dist-packages/keras/preprocessing/image.py:989: UserWarning: Found 2409 invalid image filename(s) in x_col=\"path\". These filename(s) will be ignored.\n",
            "  warnings.warn('Found {} invalid image filename(s) in x_col=\"{}\". '\n"
          ]
        },
        {
          "output_type": "stream",
          "name": "stdout",
          "text": [
            "Found 894 validated image filenames belonging to 10 classes.\n",
            "Found 297 validated image filenames belonging to 10 classes.\n"
          ]
        }
      ],
      "source": [
        "datagen = ImageDataGenerator(rescale=1. / 255, validation_split=0.25)\n",
        "train_generator = datagen.flow_from_dataframe(\n",
        "          dataframe=select_df,\n",
        "          batch_size=128,\n",
        "          class_mode='categorical',\n",
        "          shuffle=True,\n",
        "          x_col='path',\n",
        "          y_col='label',\n",
        "          subset = 'training')\n",
        "\n",
        "valid_generator = datagen.flow_from_dataframe(\n",
        "          dataframe=select_df,\n",
        "          batch_size=128,\n",
        "          class_mode='categorical',\n",
        "          shuffle=True,\n",
        "          x_col='path',\n",
        "          y_col='label',\n",
        "          subset = 'validation')"
      ]
    },
    {
      "cell_type": "markdown",
      "id": "f164fd83",
      "metadata": {
        "id": "f164fd83"
      },
      "source": [
        "### CNN"
      ]
    },
    {
      "cell_type": "code",
      "execution_count": 5,
      "id": "1d669026",
      "metadata": {
        "id": "1d669026"
      },
      "outputs": [],
      "source": [
        "from tensorflow.keras import models, layers, Model\n",
        "from tensorflow.keras.models import Sequential\n",
        "from tensorflow.keras.layers import Conv2D, MaxPooling2D, Activation\n",
        "from tensorflow.keras.layers import Dense, Dropout, Flatten, BatchNormalization\n",
        "from tensorflow import keras"
      ]
    },
    {
      "cell_type": "code",
      "execution_count": 6,
      "id": "c7554acb",
      "metadata": {
        "id": "c7554acb"
      },
      "outputs": [],
      "source": [
        "from keras.callbacks import ModelCheckpoint"
      ]
    },
    {
      "cell_type": "code",
      "execution_count": 12,
      "id": "a30f1bb5",
      "metadata": {
        "colab": {
          "base_uri": "https://localhost:8080/"
        },
        "id": "a30f1bb5",
        "outputId": "a84816f6-f953-4081-d298-b2cd47ed42ea"
      },
      "outputs": [
        {
          "output_type": "stream",
          "name": "stdout",
          "text": [
            "Model: \"sequential_1\"\n",
            "_________________________________________________________________\n",
            " Layer (type)                Output Shape              Param #   \n",
            "=================================================================\n",
            " conv2d_6 (Conv2D)           (None, 256, 256, 30)      840       \n",
            "                                                                 \n",
            " batch_normalization_6 (Batc  (None, 256, 256, 30)     120       \n",
            " hNormalization)                                                 \n",
            "                                                                 \n",
            " activation_7 (Activation)   (None, 256, 256, 30)      0         \n",
            "                                                                 \n",
            " conv2d_7 (Conv2D)           (None, 256, 256, 30)      8130      \n",
            "                                                                 \n",
            " batch_normalization_7 (Batc  (None, 256, 256, 30)     120       \n",
            " hNormalization)                                                 \n",
            "                                                                 \n",
            " activation_8 (Activation)   (None, 256, 256, 30)      0         \n",
            "                                                                 \n",
            " max_pooling2d_3 (MaxPooling  (None, 128, 128, 30)     0         \n",
            " 2D)                                                             \n",
            "                                                                 \n",
            " conv2d_8 (Conv2D)           (None, 128, 128, 50)      13550     \n",
            "                                                                 \n",
            " batch_normalization_8 (Batc  (None, 128, 128, 50)     200       \n",
            " hNormalization)                                                 \n",
            "                                                                 \n",
            " activation_9 (Activation)   (None, 128, 128, 50)      0         \n",
            "                                                                 \n",
            " conv2d_9 (Conv2D)           (None, 128, 128, 50)      22550     \n",
            "                                                                 \n",
            " batch_normalization_9 (Batc  (None, 128, 128, 50)     200       \n",
            " hNormalization)                                                 \n",
            "                                                                 \n",
            " activation_10 (Activation)  (None, 128, 128, 50)      0         \n",
            "                                                                 \n",
            " max_pooling2d_4 (MaxPooling  (None, 64, 64, 50)       0         \n",
            " 2D)                                                             \n",
            "                                                                 \n",
            " conv2d_10 (Conv2D)          (None, 64, 64, 80)        36080     \n",
            "                                                                 \n",
            " batch_normalization_10 (Bat  (None, 64, 64, 80)       320       \n",
            " chNormalization)                                                \n",
            "                                                                 \n",
            " activation_11 (Activation)  (None, 64, 64, 80)        0         \n",
            "                                                                 \n",
            " conv2d_11 (Conv2D)          (None, 64, 64, 80)        57680     \n",
            "                                                                 \n",
            " batch_normalization_11 (Bat  (None, 64, 64, 80)       320       \n",
            " chNormalization)                                                \n",
            "                                                                 \n",
            " activation_12 (Activation)  (None, 64, 64, 80)        0         \n",
            "                                                                 \n",
            " max_pooling2d_5 (MaxPooling  (None, 32, 32, 80)       0         \n",
            " 2D)                                                             \n",
            "                                                                 \n",
            " flatten_1 (Flatten)         (None, 81920)             0         \n",
            "                                                                 \n",
            " dense_2 (Dense)             (None, 50)                4096050   \n",
            "                                                                 \n",
            " activation_13 (Activation)  (None, 50)                0         \n",
            "                                                                 \n",
            " dropout (Dropout)           (None, 50)                0         \n",
            "                                                                 \n",
            " dense_3 (Dense)             (None, 10)                510       \n",
            "                                                                 \n",
            "=================================================================\n",
            "Total params: 4,236,670\n",
            "Trainable params: 4,236,030\n",
            "Non-trainable params: 640\n",
            "_________________________________________________________________\n"
          ]
        }
      ],
      "source": [
        "pool_size = 2\n",
        "    \n",
        "model1 = Sequential([\n",
        "  keras.Input(shape=(256,256,3)),\n",
        "  Conv2D(filters = 30, kernel_size = (3,3), padding='same'),  \n",
        "  BatchNormalization(),                                       \n",
        "  Activation('relu'),\n",
        "  Conv2D(filters = 30, kernel_size = (3,3), padding='same'),  \n",
        "  BatchNormalization(),                                       \n",
        "  Activation('relu'),                                           \n",
        "  MaxPooling2D(pool_size=pool_size),                         \n",
        "\n",
        "  Conv2D(filters = 50, kernel_size = (3,3), padding='same'),\n",
        "  BatchNormalization(),\n",
        "  Activation('relu'),\n",
        "  Conv2D(filters = 50, kernel_size = (3,3), padding='same'),  \n",
        "  BatchNormalization(),                                       \n",
        "  Activation('relu'),   \n",
        "  MaxPooling2D(pool_size=pool_size),                         \n",
        "\n",
        "  Conv2D(filters = 80, kernel_size = (3,3), padding='same'),\n",
        "  BatchNormalization(),\n",
        "  Activation('relu'),\n",
        "  Conv2D(filters = 80, kernel_size = (3,3), padding='same'),  \n",
        "  BatchNormalization(),                                       \n",
        "  Activation('relu'),   \n",
        "  MaxPooling2D(pool_size=pool_size),                         \n",
        "\n",
        "  Flatten(),\n",
        "  Dense(50),\n",
        "  Activation('relu'),                                          \n",
        "  Dropout(0.5),\n",
        "  Dense(10, activation='softmax'),\n",
        "])\n",
        "\n",
        "model1.summary()"
      ]
    },
    {
      "cell_type": "code",
      "execution_count": 13,
      "id": "1f7590b1",
      "metadata": {
        "id": "1f7590b1"
      },
      "outputs": [],
      "source": [
        "model1.compile(\n",
        "  optimizer='adam',\n",
        "  loss='categorical_crossentropy',\n",
        "  metrics=['accuracy'],\n",
        ")"
      ]
    },
    {
      "cell_type": "code",
      "execution_count": 14,
      "id": "351412d4",
      "metadata": {
        "colab": {
          "base_uri": "https://localhost:8080/"
        },
        "id": "351412d4",
        "outputId": "c3a7258c-bf4e-4bca-97be-82972549ac4e"
      },
      "outputs": [
        {
          "output_type": "stream",
          "name": "stdout",
          "text": [
            "Epoch 1/30\n",
            "7/7 [==============================] - 519s 73s/step - loss: 12.0231 - accuracy: 0.1342 - val_loss: 2.2327 - val_accuracy: 0.1481\n",
            "Epoch 2/30\n",
            "7/7 [==============================] - 6s 891ms/step - loss: 2.2354 - accuracy: 0.1868 - val_loss: 2.2555 - val_accuracy: 0.2121\n",
            "Epoch 3/30\n",
            "7/7 [==============================] - 6s 886ms/step - loss: 2.1947 - accuracy: 0.2148 - val_loss: 2.2977 - val_accuracy: 0.2323\n",
            "Epoch 4/30\n",
            "7/7 [==============================] - 6s 889ms/step - loss: 2.1800 - accuracy: 0.2148 - val_loss: 2.2961 - val_accuracy: 0.2323\n",
            "Epoch 5/30\n",
            "7/7 [==============================] - 6s 889ms/step - loss: 2.1616 - accuracy: 0.2136 - val_loss: 2.2945 - val_accuracy: 0.2323\n",
            "Epoch 6/30\n",
            "7/7 [==============================] - 6s 892ms/step - loss: 2.1365 - accuracy: 0.2125 - val_loss: 2.2930 - val_accuracy: 0.2323\n",
            "Epoch 7/30\n",
            "7/7 [==============================] - 6s 896ms/step - loss: 2.1060 - accuracy: 0.2136 - val_loss: 2.2914 - val_accuracy: 0.2323\n",
            "Epoch 8/30\n",
            "7/7 [==============================] - 7s 899ms/step - loss: 2.1035 - accuracy: 0.2204 - val_loss: 2.2901 - val_accuracy: 0.2323\n",
            "Epoch 9/30\n",
            "7/7 [==============================] - 7s 902ms/step - loss: 2.0881 - accuracy: 0.2260 - val_loss: 2.2887 - val_accuracy: 0.2323\n",
            "Epoch 10/30\n",
            "7/7 [==============================] - 7s 904ms/step - loss: 2.0806 - accuracy: 0.2226 - val_loss: 2.2874 - val_accuracy: 0.2323\n",
            "Epoch 11/30\n",
            "7/7 [==============================] - 7s 904ms/step - loss: 2.0824 - accuracy: 0.2170 - val_loss: 2.2861 - val_accuracy: 0.2323\n",
            "Epoch 12/30\n",
            "7/7 [==============================] - 7s 902ms/step - loss: 2.0850 - accuracy: 0.2204 - val_loss: 2.2848 - val_accuracy: 0.2323\n",
            "Epoch 13/30\n",
            "7/7 [==============================] - 7s 907ms/step - loss: 2.0664 - accuracy: 0.2215 - val_loss: 2.2835 - val_accuracy: 0.2323\n",
            "Epoch 14/30\n",
            "7/7 [==============================] - 7s 914ms/step - loss: 2.0724 - accuracy: 0.2159 - val_loss: 2.2822 - val_accuracy: 0.2323\n",
            "Epoch 15/30\n",
            "7/7 [==============================] - 7s 913ms/step - loss: 2.0786 - accuracy: 0.2192 - val_loss: 2.2809 - val_accuracy: 0.2323\n",
            "Epoch 16/30\n",
            "7/7 [==============================] - 7s 914ms/step - loss: 2.0606 - accuracy: 0.2181 - val_loss: 2.2798 - val_accuracy: 0.2323\n",
            "Epoch 17/30\n",
            "7/7 [==============================] - 7s 932ms/step - loss: 2.0489 - accuracy: 0.2215 - val_loss: 2.2787 - val_accuracy: 0.2323\n",
            "Epoch 18/30\n",
            "7/7 [==============================] - 7s 916ms/step - loss: 2.0383 - accuracy: 0.2192 - val_loss: 2.2777 - val_accuracy: 0.2323\n",
            "Epoch 19/30\n",
            "7/7 [==============================] - 7s 922ms/step - loss: 2.0735 - accuracy: 0.2159 - val_loss: 2.2765 - val_accuracy: 0.2323\n",
            "Epoch 20/30\n",
            "7/7 [==============================] - 7s 913ms/step - loss: 2.0483 - accuracy: 0.2237 - val_loss: 2.2754 - val_accuracy: 0.1178\n",
            "Epoch 21/30\n",
            "7/7 [==============================] - 7s 913ms/step - loss: 2.0474 - accuracy: 0.2260 - val_loss: 2.2744 - val_accuracy: 0.1178\n",
            "Epoch 22/30\n",
            "7/7 [==============================] - 7s 919ms/step - loss: 2.0355 - accuracy: 0.2315 - val_loss: 2.2733 - val_accuracy: 0.1178\n",
            "Epoch 23/30\n",
            "7/7 [==============================] - 7s 911ms/step - loss: 2.0576 - accuracy: 0.2192 - val_loss: 2.2722 - val_accuracy: 0.1178\n",
            "Epoch 24/30\n",
            "7/7 [==============================] - 7s 911ms/step - loss: 2.0232 - accuracy: 0.2338 - val_loss: 2.2712 - val_accuracy: 0.1178\n",
            "Epoch 25/30\n",
            "7/7 [==============================] - 7s 912ms/step - loss: 2.0138 - accuracy: 0.2472 - val_loss: 2.2703 - val_accuracy: 0.1178\n",
            "Epoch 26/30\n",
            "7/7 [==============================] - 7s 913ms/step - loss: 2.0302 - accuracy: 0.2338 - val_loss: 2.2694 - val_accuracy: 0.1178\n",
            "Epoch 27/30\n",
            "7/7 [==============================] - 7s 912ms/step - loss: 2.0334 - accuracy: 0.2282 - val_loss: 2.2686 - val_accuracy: 0.1178\n",
            "Epoch 28/30\n",
            "7/7 [==============================] - 7s 911ms/step - loss: 2.0265 - accuracy: 0.2371 - val_loss: 2.2677 - val_accuracy: 0.1178\n",
            "Epoch 29/30\n",
            "7/7 [==============================] - 7s 910ms/step - loss: 2.0196 - accuracy: 0.2327 - val_loss: 2.2669 - val_accuracy: 0.1178\n",
            "Epoch 30/30\n",
            "7/7 [==============================] - 7s 916ms/step - loss: 2.0262 - accuracy: 0.2304 - val_loss: 2.2661 - val_accuracy: 0.1178\n"
          ]
        }
      ],
      "source": [
        "#cnn\n",
        "history1 = model1.fit(\n",
        "    train_generator,\n",
        "    epochs=30,\n",
        "    validation_data=valid_generator,\n",
        "    shuffle=True)"
      ]
    },
    {
      "cell_type": "markdown",
      "id": "a29eb044",
      "metadata": {
        "id": "a29eb044"
      },
      "source": [
        "### CNN+LSTM"
      ]
    },
    {
      "cell_type": "code",
      "execution_count": 15,
      "id": "e6cec0bd",
      "metadata": {
        "id": "e6cec0bd"
      },
      "outputs": [],
      "source": [
        "from keras.layers import Dense, Dropout, Flatten, Conv2D, BatchNormalization, MaxPooling2D,\\\n",
        "                        Permute, TimeDistributed, Bidirectional,GRU, LeakyReLU, SimpleRNN,\\\n",
        "LSTM, GlobalAveragePooling2D, SeparableConv2D, ZeroPadding2D, Reshape\n",
        "from keras import models\n",
        "from keras import layers\n",
        "import tensorflow as tf"
      ]
    },
    {
      "cell_type": "code",
      "execution_count": 16,
      "id": "b9755dd6",
      "metadata": {
        "id": "b9755dd6",
        "colab": {
          "base_uri": "https://localhost:8080/"
        },
        "outputId": "f57b040d-995c-49d2-9a9b-b3cc4dbf3601"
      },
      "outputs": [
        {
          "output_type": "stream",
          "name": "stderr",
          "text": [
            "WARNING:tensorflow:Layer lstm will not use cuDNN kernels since it doesn't meet the criteria. It will use a generic GPU kernel as fallback when running on GPU.\n",
            "WARNING:tensorflow:Layer lstm will not use cuDNN kernels since it doesn't meet the criteria. It will use a generic GPU kernel as fallback when running on GPU.\n",
            "WARNING:tensorflow:Layer lstm will not use cuDNN kernels since it doesn't meet the criteria. It will use a generic GPU kernel as fallback when running on GPU.\n",
            "WARNING:tensorflow:Layer lstm_1 will not use cuDNN kernels since it doesn't meet the criteria. It will use a generic GPU kernel as fallback when running on GPU.\n",
            "WARNING:tensorflow:Layer lstm_1 will not use cuDNN kernels since it doesn't meet the criteria. It will use a generic GPU kernel as fallback when running on GPU.\n",
            "WARNING:tensorflow:Layer lstm_1 will not use cuDNN kernels since it doesn't meet the criteria. It will use a generic GPU kernel as fallback when running on GPU.\n"
          ]
        }
      ],
      "source": [
        "Model = Sequential()\n",
        "\n",
        "Model.add(SeparableConv2D(12,(3,3),activation=\"relu\",\n",
        "                 input_shape=(256,256,3)))\n",
        "Model.add(BatchNormalization())\n",
        "Model.add(MaxPooling2D((2,2)))\n",
        "\n",
        "#\n",
        "Model.add(SeparableConv2D(24,(3,3),\n",
        "                 activation=\"relu\",padding=\"same\"))\n",
        "Model.add(Dropout(0.2))\n",
        "Model.add(MaxPooling2D((2,2)))\n",
        "\n",
        "#\n",
        "Model.add(TimeDistributed(Flatten()))\n",
        "Model.add(Bidirectional(LSTM(64,\n",
        "                                  return_sequences=True,\n",
        "                                  dropout=0.5,\n",
        "                                  recurrent_dropout=0.5)))\n",
        "Model.add(Bidirectional(LSTM(64,\n",
        "                                  return_sequences=True,\n",
        "                                  dropout=0.5,\n",
        "                                  recurrent_dropout=0.5)))\n",
        "\n",
        "#\n",
        "Model.add(Flatten())\n",
        "Model.add(Dense(128,activation=\"relu\"))\n",
        "Model.add(Dropout(0.5))\n",
        "Model.add(Dense(10,activation=\"sigmoid\"))"
      ]
    },
    {
      "cell_type": "code",
      "execution_count": 17,
      "id": "071a1401",
      "metadata": {
        "id": "071a1401"
      },
      "outputs": [],
      "source": [
        "Model.compile(\n",
        "  optimizer='adam',\n",
        "  loss='categorical_crossentropy',\n",
        "  metrics=['accuracy'],\n",
        ")"
      ]
    },
    {
      "cell_type": "code",
      "execution_count": 18,
      "id": "28b29fa5",
      "metadata": {
        "id": "28b29fa5"
      },
      "outputs": [],
      "source": [
        "checkpoint_filepath = 'C:/Users/HOME/Desktop/AI_project/KSL/h5/' + 'best_model_{val_accuracy:.4f}.h5'\n",
        "model_checkpoint_callback = ModelCheckpoint(\n",
        "    filepath=checkpoint_filepath,\n",
        "    save_weights_only=True,\n",
        "    monitor='val_accuracy',\n",
        "    mode='max',\n",
        "    save_best_only=True,\n",
        "    verbose=1)"
      ]
    },
    {
      "cell_type": "code",
      "execution_count": 20,
      "id": "6f20ae9b",
      "metadata": {
        "id": "6f20ae9b",
        "colab": {
          "base_uri": "https://localhost:8080/"
        },
        "outputId": "4ed5379b-497f-45a2-eda9-0ee02c2471d2"
      },
      "outputs": [
        {
          "output_type": "stream",
          "name": "stdout",
          "text": [
            "Epoch 1/30\n",
            "7/7 [==============================] - 14s 2s/step - loss: 0.5058 - accuracy: 0.8221 - val_loss: 2.1834 - val_accuracy: 0.2121\n",
            "Epoch 2/30\n",
            "7/7 [==============================] - 14s 2s/step - loss: 0.4054 - accuracy: 0.8691 - val_loss: 2.2075 - val_accuracy: 0.2088\n",
            "Epoch 3/30\n",
            "7/7 [==============================] - 14s 2s/step - loss: 0.2907 - accuracy: 0.9094 - val_loss: 2.1918 - val_accuracy: 0.2121\n",
            "Epoch 4/30\n",
            "7/7 [==============================] - 14s 2s/step - loss: 0.2122 - accuracy: 0.9441 - val_loss: 2.1752 - val_accuracy: 0.2222\n",
            "Epoch 5/30\n",
            "7/7 [==============================] - 14s 2s/step - loss: 0.1500 - accuracy: 0.9541 - val_loss: 2.1443 - val_accuracy: 0.2795\n",
            "Epoch 6/30\n",
            "7/7 [==============================] - 16s 2s/step - loss: 0.1254 - accuracy: 0.9620 - val_loss: 2.1334 - val_accuracy: 0.2593\n",
            "Epoch 7/30\n",
            "7/7 [==============================] - 14s 2s/step - loss: 0.1127 - accuracy: 0.9653 - val_loss: 2.1487 - val_accuracy: 0.2525\n",
            "Epoch 8/30\n",
            "7/7 [==============================] - 14s 2s/step - loss: 0.0974 - accuracy: 0.9698 - val_loss: 2.1219 - val_accuracy: 0.2492\n",
            "Epoch 9/30\n",
            "7/7 [==============================] - 14s 2s/step - loss: 0.1133 - accuracy: 0.9698 - val_loss: 2.1161 - val_accuracy: 0.2626\n",
            "Epoch 10/30\n",
            "7/7 [==============================] - 14s 2s/step - loss: 0.1027 - accuracy: 0.9564 - val_loss: 2.1357 - val_accuracy: 0.3333\n",
            "Epoch 11/30\n",
            "7/7 [==============================] - 14s 2s/step - loss: 0.1044 - accuracy: 0.9609 - val_loss: 2.1310 - val_accuracy: 0.3064\n",
            "Epoch 12/30\n",
            "7/7 [==============================] - 14s 2s/step - loss: 0.0833 - accuracy: 0.9720 - val_loss: 2.1067 - val_accuracy: 0.3401\n",
            "Epoch 13/30\n",
            "7/7 [==============================] - 14s 2s/step - loss: 0.0598 - accuracy: 0.9843 - val_loss: 2.1378 - val_accuracy: 0.3098\n",
            "Epoch 14/30\n",
            "7/7 [==============================] - 14s 2s/step - loss: 0.0442 - accuracy: 0.9866 - val_loss: 2.1233 - val_accuracy: 0.2896\n",
            "Epoch 15/30\n",
            "7/7 [==============================] - 14s 2s/step - loss: 0.0514 - accuracy: 0.9810 - val_loss: 2.1488 - val_accuracy: 0.3199\n",
            "Epoch 16/30\n",
            "7/7 [==============================] - 16s 2s/step - loss: 0.0482 - accuracy: 0.9843 - val_loss: 2.1334 - val_accuracy: 0.3367\n",
            "Epoch 17/30\n",
            "7/7 [==============================] - 14s 2s/step - loss: 0.0471 - accuracy: 0.9866 - val_loss: 2.1517 - val_accuracy: 0.3199\n",
            "Epoch 18/30\n",
            "7/7 [==============================] - 14s 2s/step - loss: 0.0394 - accuracy: 0.9888 - val_loss: 2.1193 - val_accuracy: 0.3165\n",
            "Epoch 19/30\n",
            "7/7 [==============================] - 14s 2s/step - loss: 0.0250 - accuracy: 0.9922 - val_loss: 2.0871 - val_accuracy: 0.3232\n",
            "Epoch 20/30\n",
            "7/7 [==============================] - 14s 2s/step - loss: 0.0304 - accuracy: 0.9888 - val_loss: 2.1191 - val_accuracy: 0.3300\n",
            "Epoch 21/30\n",
            "7/7 [==============================] - 14s 2s/step - loss: 0.0194 - accuracy: 0.9966 - val_loss: 2.1256 - val_accuracy: 0.3401\n",
            "Epoch 22/30\n",
            "7/7 [==============================] - 14s 2s/step - loss: 0.0118 - accuracy: 0.9978 - val_loss: 2.1425 - val_accuracy: 0.3502\n",
            "Epoch 23/30\n",
            "7/7 [==============================] - 14s 2s/step - loss: 0.0141 - accuracy: 0.9944 - val_loss: 2.1228 - val_accuracy: 0.3502\n",
            "Epoch 24/30\n",
            "7/7 [==============================] - 14s 2s/step - loss: 0.0313 - accuracy: 0.9888 - val_loss: 2.1896 - val_accuracy: 0.3333\n",
            "Epoch 25/30\n",
            "7/7 [==============================] - 14s 2s/step - loss: 0.0115 - accuracy: 0.9966 - val_loss: 2.2311 - val_accuracy: 0.3300\n",
            "Epoch 26/30\n",
            "7/7 [==============================] - 16s 2s/step - loss: 0.0185 - accuracy: 0.9922 - val_loss: 2.1892 - val_accuracy: 0.3670\n",
            "Epoch 27/30\n",
            "7/7 [==============================] - 14s 2s/step - loss: 0.0160 - accuracy: 0.9966 - val_loss: 2.1989 - val_accuracy: 0.3603\n",
            "Epoch 28/30\n",
            "7/7 [==============================] - 14s 2s/step - loss: 0.0170 - accuracy: 0.9955 - val_loss: 2.2383 - val_accuracy: 0.3535\n",
            "Epoch 29/30\n",
            "7/7 [==============================] - 14s 2s/step - loss: 0.0113 - accuracy: 0.9978 - val_loss: 2.3001 - val_accuracy: 0.3502\n",
            "Epoch 30/30\n",
            "7/7 [==============================] - 14s 2s/step - loss: 0.0129 - accuracy: 0.9978 - val_loss: 2.3480 - val_accuracy: 0.3266\n"
          ]
        }
      ],
      "source": [
        "history2= Model.fit(\n",
        "    train_generator,\n",
        "    epochs=30,\n",
        "    validation_data=valid_generator,\n",
        "    shuffle=True)"
      ]
    },
    {
      "cell_type": "markdown",
      "id": "af72cb59",
      "metadata": {
        "id": "af72cb59"
      },
      "source": [
        "### VGG16\n",
        "- 하려다가 실패함"
      ]
    },
    {
      "cell_type": "code",
      "execution_count": null,
      "id": "a6f4356a",
      "metadata": {
        "id": "a6f4356a"
      },
      "outputs": [],
      "source": [
        "from keras.applications.vgg16 import VGG16"
      ]
    },
    {
      "cell_type": "code",
      "execution_count": null,
      "id": "53311144",
      "metadata": {
        "id": "53311144"
      },
      "outputs": [],
      "source": [
        "base_model = VGG16(weights='imagenet', include_top=False, input_shape=(256,256,3), classes=10)"
      ]
    },
    {
      "cell_type": "code",
      "execution_count": null,
      "id": "67222d57",
      "metadata": {
        "id": "67222d57"
      },
      "outputs": [],
      "source": [
        "base_model.trainable = False"
      ]
    },
    {
      "cell_type": "code",
      "execution_count": null,
      "id": "ae7dfd84",
      "metadata": {
        "id": "ae7dfd84"
      },
      "outputs": [],
      "source": [
        "base_model.compile(\n",
        "  optimizer='adam',\n",
        "  loss='categorical_crossentropy',\n",
        "  metrics=['accuracy'],\n",
        ")"
      ]
    },
    {
      "cell_type": "code",
      "execution_count": null,
      "id": "791abde9",
      "metadata": {
        "id": "791abde9"
      },
      "outputs": [],
      "source": [
        "history3= base_model.fit(\n",
        "    train_generator,\n",
        "    epochs=10,\n",
        "    validation_data=valid_generator,\n",
        "    shuffle=True)"
      ]
    }
  ],
  "metadata": {
    "kernelspec": {
      "display_name": "Python 3 (ipykernel)",
      "language": "python",
      "name": "python3"
    },
    "language_info": {
      "codemirror_mode": {
        "name": "ipython",
        "version": 3
      },
      "file_extension": ".py",
      "mimetype": "text/x-python",
      "name": "python",
      "nbconvert_exporter": "python",
      "pygments_lexer": "ipython3",
      "version": "3.9.13"
    },
    "colab": {
      "provenance": [],
      "collapsed_sections": [
        "a29eb044"
      ],
      "include_colab_link": true
    },
    "accelerator": "GPU",
    "gpuClass": "standard"
  },
  "nbformat": 4,
  "nbformat_minor": 5
}