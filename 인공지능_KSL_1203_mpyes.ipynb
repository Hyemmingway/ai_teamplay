{
  "cells": [
    {
      "cell_type": "markdown",
      "metadata": {
        "id": "view-in-github",
        "colab_type": "text"
      },
      "source": [
        "<a href=\"https://colab.research.google.com/github/Hyemmingway/ai_teamplay/blob/main/%EC%9D%B8%EA%B3%B5%EC%A7%80%EB%8A%A5_KSL_1203_mpyes.ipynb\" target=\"_parent\"><img src=\"https://colab.research.google.com/assets/colab-badge.svg\" alt=\"Open In Colab\"/></a>"
      ]
    },
    {
      "cell_type": "markdown",
      "metadata": {
        "id": "731376d1"
      },
      "source": [
        "## 0. 모듈 불러오기"
      ],
      "id": "731376d1"
    },
    {
      "cell_type": "code",
      "execution_count": 2,
      "metadata": {
        "id": "gxhRbrr-QP1u",
        "colab": {
          "base_uri": "https://localhost:8080/"
        },
        "outputId": "4aeed802-b740-4c5c-eaa1-e706f85c6251"
      },
      "outputs": [
        {
          "output_type": "stream",
          "name": "stdout",
          "text": [
            "Drive already mounted at /content/drive; to attempt to forcibly remount, call drive.mount(\"/content/drive\", force_remount=True).\n"
          ]
        }
      ],
      "source": [
        "from google.colab import drive\n",
        "drive.mount('/content/drive')"
      ],
      "id": "gxhRbrr-QP1u"
    },
    {
      "cell_type": "code",
      "execution_count": 3,
      "metadata": {
        "id": "52d4c3d5"
      },
      "outputs": [],
      "source": [
        "import os\n",
        "import glob\n",
        "from pathlib import Path\n",
        "\n",
        "import pandas as pd\n",
        "import numpy as np\n",
        "import seaborn as sns\n",
        "import matplotlib.pyplot as plt\n",
        "import random\n",
        "import math\n",
        "\n",
        "import pickle\n",
        "import cv2\n",
        "#import mediapipe as mp\n",
        "\n",
        "from tensorflow.keras.preprocessing.image import ImageDataGenerator"
      ],
      "id": "52d4c3d5"
    },
    {
      "cell_type": "markdown",
      "metadata": {
        "id": "d123d904"
      },
      "source": [
        "## 1. 데이터 확인"
      ],
      "id": "d123d904"
    },
    {
      "cell_type": "code",
      "execution_count": 4,
      "metadata": {
        "colab": {
          "base_uri": "https://localhost:8080/",
          "height": 424
        },
        "id": "94304a5b",
        "outputId": "3e32b1ce-9108-42ab-905a-ad23dd61ea96"
      },
      "outputs": [
        {
          "output_type": "execute_result",
          "data": {
            "text/plain": [
              "                name   fold  class  num  \\\n",
              "0     00_01.0045.jpg  00_01      1   45   \n",
              "1     00_01.0046.jpg  00_01      1   46   \n",
              "2     00_01.0047.jpg  00_01      1   47   \n",
              "3     00_01.0048.jpg  00_01      1   48   \n",
              "4     00_01.0049.jpg  00_01      1   49   \n",
              "...              ...    ...    ...  ...   \n",
              "3595  19_77.0072.jpg  19_77     77   72   \n",
              "3596  19_77.0073.jpg  19_77     77   73   \n",
              "3597  19_77.0074.jpg  19_77     77   74   \n",
              "3598  19_77.0075.jpg  19_77     77   75   \n",
              "3599  19_77.0076.jpg  19_77     77   76   \n",
              "\n",
              "                                                   path label  \n",
              "0     /content/drive/MyDrive/2022-2 ipynb/AISTAT/num...    hi  \n",
              "1     /content/drive/MyDrive/2022-2 ipynb/AISTAT/num...    hi  \n",
              "2     /content/drive/MyDrive/2022-2 ipynb/AISTAT/num...    hi  \n",
              "3     /content/drive/MyDrive/2022-2 ipynb/AISTAT/num...    hi  \n",
              "4     /content/drive/MyDrive/2022-2 ipynb/AISTAT/num...    hi  \n",
              "...                                                 ...   ...  \n",
              "3595  /content/drive/MyDrive/2022-2 ipynb/AISTAT/num...  care  \n",
              "3596  /content/drive/MyDrive/2022-2 ipynb/AISTAT/num...  care  \n",
              "3597  /content/drive/MyDrive/2022-2 ipynb/AISTAT/num...  care  \n",
              "3598  /content/drive/MyDrive/2022-2 ipynb/AISTAT/num...  care  \n",
              "3599  /content/drive/MyDrive/2022-2 ipynb/AISTAT/num...  care  \n",
              "\n",
              "[3600 rows x 6 columns]"
            ],
            "text/html": [
              "\n",
              "  <div id=\"df-dceca782-2fe8-4faa-b9c4-05a332176653\">\n",
              "    <div class=\"colab-df-container\">\n",
              "      <div>\n",
              "<style scoped>\n",
              "    .dataframe tbody tr th:only-of-type {\n",
              "        vertical-align: middle;\n",
              "    }\n",
              "\n",
              "    .dataframe tbody tr th {\n",
              "        vertical-align: top;\n",
              "    }\n",
              "\n",
              "    .dataframe thead th {\n",
              "        text-align: right;\n",
              "    }\n",
              "</style>\n",
              "<table border=\"1\" class=\"dataframe\">\n",
              "  <thead>\n",
              "    <tr style=\"text-align: right;\">\n",
              "      <th></th>\n",
              "      <th>name</th>\n",
              "      <th>fold</th>\n",
              "      <th>class</th>\n",
              "      <th>num</th>\n",
              "      <th>path</th>\n",
              "      <th>label</th>\n",
              "    </tr>\n",
              "  </thead>\n",
              "  <tbody>\n",
              "    <tr>\n",
              "      <th>0</th>\n",
              "      <td>00_01.0045.jpg</td>\n",
              "      <td>00_01</td>\n",
              "      <td>1</td>\n",
              "      <td>45</td>\n",
              "      <td>/content/drive/MyDrive/2022-2 ipynb/AISTAT/num...</td>\n",
              "      <td>hi</td>\n",
              "    </tr>\n",
              "    <tr>\n",
              "      <th>1</th>\n",
              "      <td>00_01.0046.jpg</td>\n",
              "      <td>00_01</td>\n",
              "      <td>1</td>\n",
              "      <td>46</td>\n",
              "      <td>/content/drive/MyDrive/2022-2 ipynb/AISTAT/num...</td>\n",
              "      <td>hi</td>\n",
              "    </tr>\n",
              "    <tr>\n",
              "      <th>2</th>\n",
              "      <td>00_01.0047.jpg</td>\n",
              "      <td>00_01</td>\n",
              "      <td>1</td>\n",
              "      <td>47</td>\n",
              "      <td>/content/drive/MyDrive/2022-2 ipynb/AISTAT/num...</td>\n",
              "      <td>hi</td>\n",
              "    </tr>\n",
              "    <tr>\n",
              "      <th>3</th>\n",
              "      <td>00_01.0048.jpg</td>\n",
              "      <td>00_01</td>\n",
              "      <td>1</td>\n",
              "      <td>48</td>\n",
              "      <td>/content/drive/MyDrive/2022-2 ipynb/AISTAT/num...</td>\n",
              "      <td>hi</td>\n",
              "    </tr>\n",
              "    <tr>\n",
              "      <th>4</th>\n",
              "      <td>00_01.0049.jpg</td>\n",
              "      <td>00_01</td>\n",
              "      <td>1</td>\n",
              "      <td>49</td>\n",
              "      <td>/content/drive/MyDrive/2022-2 ipynb/AISTAT/num...</td>\n",
              "      <td>hi</td>\n",
              "    </tr>\n",
              "    <tr>\n",
              "      <th>...</th>\n",
              "      <td>...</td>\n",
              "      <td>...</td>\n",
              "      <td>...</td>\n",
              "      <td>...</td>\n",
              "      <td>...</td>\n",
              "      <td>...</td>\n",
              "    </tr>\n",
              "    <tr>\n",
              "      <th>3595</th>\n",
              "      <td>19_77.0072.jpg</td>\n",
              "      <td>19_77</td>\n",
              "      <td>77</td>\n",
              "      <td>72</td>\n",
              "      <td>/content/drive/MyDrive/2022-2 ipynb/AISTAT/num...</td>\n",
              "      <td>care</td>\n",
              "    </tr>\n",
              "    <tr>\n",
              "      <th>3596</th>\n",
              "      <td>19_77.0073.jpg</td>\n",
              "      <td>19_77</td>\n",
              "      <td>77</td>\n",
              "      <td>73</td>\n",
              "      <td>/content/drive/MyDrive/2022-2 ipynb/AISTAT/num...</td>\n",
              "      <td>care</td>\n",
              "    </tr>\n",
              "    <tr>\n",
              "      <th>3597</th>\n",
              "      <td>19_77.0074.jpg</td>\n",
              "      <td>19_77</td>\n",
              "      <td>77</td>\n",
              "      <td>74</td>\n",
              "      <td>/content/drive/MyDrive/2022-2 ipynb/AISTAT/num...</td>\n",
              "      <td>care</td>\n",
              "    </tr>\n",
              "    <tr>\n",
              "      <th>3598</th>\n",
              "      <td>19_77.0075.jpg</td>\n",
              "      <td>19_77</td>\n",
              "      <td>77</td>\n",
              "      <td>75</td>\n",
              "      <td>/content/drive/MyDrive/2022-2 ipynb/AISTAT/num...</td>\n",
              "      <td>care</td>\n",
              "    </tr>\n",
              "    <tr>\n",
              "      <th>3599</th>\n",
              "      <td>19_77.0076.jpg</td>\n",
              "      <td>19_77</td>\n",
              "      <td>77</td>\n",
              "      <td>76</td>\n",
              "      <td>/content/drive/MyDrive/2022-2 ipynb/AISTAT/num...</td>\n",
              "      <td>care</td>\n",
              "    </tr>\n",
              "  </tbody>\n",
              "</table>\n",
              "<p>3600 rows × 6 columns</p>\n",
              "</div>\n",
              "      <button class=\"colab-df-convert\" onclick=\"convertToInteractive('df-dceca782-2fe8-4faa-b9c4-05a332176653')\"\n",
              "              title=\"Convert this dataframe to an interactive table.\"\n",
              "              style=\"display:none;\">\n",
              "        \n",
              "  <svg xmlns=\"http://www.w3.org/2000/svg\" height=\"24px\"viewBox=\"0 0 24 24\"\n",
              "       width=\"24px\">\n",
              "    <path d=\"M0 0h24v24H0V0z\" fill=\"none\"/>\n",
              "    <path d=\"M18.56 5.44l.94 2.06.94-2.06 2.06-.94-2.06-.94-.94-2.06-.94 2.06-2.06.94zm-11 1L8.5 8.5l.94-2.06 2.06-.94-2.06-.94L8.5 2.5l-.94 2.06-2.06.94zm10 10l.94 2.06.94-2.06 2.06-.94-2.06-.94-.94-2.06-.94 2.06-2.06.94z\"/><path d=\"M17.41 7.96l-1.37-1.37c-.4-.4-.92-.59-1.43-.59-.52 0-1.04.2-1.43.59L10.3 9.45l-7.72 7.72c-.78.78-.78 2.05 0 2.83L4 21.41c.39.39.9.59 1.41.59.51 0 1.02-.2 1.41-.59l7.78-7.78 2.81-2.81c.8-.78.8-2.07 0-2.86zM5.41 20L4 18.59l7.72-7.72 1.47 1.35L5.41 20z\"/>\n",
              "  </svg>\n",
              "      </button>\n",
              "      \n",
              "  <style>\n",
              "    .colab-df-container {\n",
              "      display:flex;\n",
              "      flex-wrap:wrap;\n",
              "      gap: 12px;\n",
              "    }\n",
              "\n",
              "    .colab-df-convert {\n",
              "      background-color: #E8F0FE;\n",
              "      border: none;\n",
              "      border-radius: 50%;\n",
              "      cursor: pointer;\n",
              "      display: none;\n",
              "      fill: #1967D2;\n",
              "      height: 32px;\n",
              "      padding: 0 0 0 0;\n",
              "      width: 32px;\n",
              "    }\n",
              "\n",
              "    .colab-df-convert:hover {\n",
              "      background-color: #E2EBFA;\n",
              "      box-shadow: 0px 1px 2px rgba(60, 64, 67, 0.3), 0px 1px 3px 1px rgba(60, 64, 67, 0.15);\n",
              "      fill: #174EA6;\n",
              "    }\n",
              "\n",
              "    [theme=dark] .colab-df-convert {\n",
              "      background-color: #3B4455;\n",
              "      fill: #D2E3FC;\n",
              "    }\n",
              "\n",
              "    [theme=dark] .colab-df-convert:hover {\n",
              "      background-color: #434B5C;\n",
              "      box-shadow: 0px 1px 3px 1px rgba(0, 0, 0, 0.15);\n",
              "      filter: drop-shadow(0px 1px 2px rgba(0, 0, 0, 0.3));\n",
              "      fill: #FFFFFF;\n",
              "    }\n",
              "  </style>\n",
              "\n",
              "      <script>\n",
              "        const buttonEl =\n",
              "          document.querySelector('#df-dceca782-2fe8-4faa-b9c4-05a332176653 button.colab-df-convert');\n",
              "        buttonEl.style.display =\n",
              "          google.colab.kernel.accessAllowed ? 'block' : 'none';\n",
              "\n",
              "        async function convertToInteractive(key) {\n",
              "          const element = document.querySelector('#df-dceca782-2fe8-4faa-b9c4-05a332176653');\n",
              "          const dataTable =\n",
              "            await google.colab.kernel.invokeFunction('convertToInteractive',\n",
              "                                                     [key], {});\n",
              "          if (!dataTable) return;\n",
              "\n",
              "          const docLinkHtml = 'Like what you see? Visit the ' +\n",
              "            '<a target=\"_blank\" href=https://colab.research.google.com/notebooks/data_table.ipynb>data table notebook</a>'\n",
              "            + ' to learn more about interactive tables.';\n",
              "          element.innerHTML = '';\n",
              "          dataTable['output_type'] = 'display_data';\n",
              "          await google.colab.output.renderOutput(dataTable, element);\n",
              "          const docLink = document.createElement('div');\n",
              "          docLink.innerHTML = docLinkHtml;\n",
              "          element.appendChild(docLink);\n",
              "        }\n",
              "      </script>\n",
              "    </div>\n",
              "  </div>\n",
              "  "
            ]
          },
          "metadata": {},
          "execution_count": 4
        }
      ],
      "source": [
        "#한 폴더당 중심 동작 20개씩 뽑음\n",
        "select_df=pd.read_csv('/content/drive/MyDrive/2022-2 ipynb/AISTAT/num5 data/DF_select_mp_20 (1).csv')\n",
        "select_df"
      ],
      "id": "94304a5b"
    },
    {
      "cell_type": "code",
      "execution_count": 5,
      "metadata": {
        "colab": {
          "base_uri": "https://localhost:8080/"
        },
        "id": "9be71020",
        "outputId": "f2424e42-8183-4c07-96d9-b1ff0835ed56"
      },
      "outputs": [
        {
          "output_type": "stream",
          "name": "stderr",
          "text": [
            "/usr/local/lib/python3.8/dist-packages/keras/preprocessing/image.py:989: UserWarning: Found 2409 invalid image filename(s) in x_col=\"path\". These filename(s) will be ignored.\n",
            "  warnings.warn('Found {} invalid image filename(s) in x_col=\"{}\". '\n"
          ]
        },
        {
          "output_type": "stream",
          "name": "stdout",
          "text": [
            "Found 894 validated image filenames belonging to 10 classes.\n",
            "Found 297 validated image filenames belonging to 10 classes.\n"
          ]
        }
      ],
      "source": [
        "datagen = ImageDataGenerator(rescale=1. / 255, validation_split=0.25)\n",
        "train_generator = datagen.flow_from_dataframe(\n",
        "          dataframe=select_df,\n",
        "          batch_size=128,\n",
        "          class_mode='categorical',\n",
        "          shuffle=True,\n",
        "          x_col='path',\n",
        "          y_col='label',\n",
        "          subset = 'training')\n",
        "\n",
        "valid_generator = datagen.flow_from_dataframe(\n",
        "          dataframe=select_df,\n",
        "          batch_size=128,\n",
        "          class_mode='categorical',\n",
        "          shuffle=True,\n",
        "          x_col='path',\n",
        "          y_col='label',\n",
        "          subset = 'validation')"
      ],
      "id": "9be71020"
    },
    {
      "cell_type": "markdown",
      "metadata": {
        "id": "f164fd83"
      },
      "source": [
        "### CNN"
      ],
      "id": "f164fd83"
    },
    {
      "cell_type": "code",
      "execution_count": 6,
      "metadata": {
        "id": "1d669026"
      },
      "outputs": [],
      "source": [
        "from tensorflow.keras import models, layers, Model\n",
        "from tensorflow.keras.models import Sequential\n",
        "from tensorflow.keras.layers import Conv2D, MaxPooling2D, Activation\n",
        "from tensorflow.keras.layers import Dense, Dropout, Flatten, BatchNormalization\n",
        "from tensorflow import keras"
      ],
      "id": "1d669026"
    },
    {
      "cell_type": "code",
      "execution_count": 7,
      "metadata": {
        "id": "c7554acb"
      },
      "outputs": [],
      "source": [
        "from keras.callbacks import ModelCheckpoint"
      ],
      "id": "c7554acb"
    },
    {
      "cell_type": "code",
      "execution_count": 8,
      "metadata": {
        "colab": {
          "base_uri": "https://localhost:8080/"
        },
        "id": "a30f1bb5",
        "outputId": "09dfb772-76ee-4015-8fa9-68e5621bd5e0"
      },
      "outputs": [
        {
          "output_type": "stream",
          "name": "stdout",
          "text": [
            "Model: \"sequential\"\n",
            "_________________________________________________________________\n",
            " Layer (type)                Output Shape              Param #   \n",
            "=================================================================\n",
            " conv2d (Conv2D)             (None, 256, 256, 30)      840       \n",
            "                                                                 \n",
            " batch_normalization (BatchN  (None, 256, 256, 30)     120       \n",
            " ormalization)                                                   \n",
            "                                                                 \n",
            " activation (Activation)     (None, 256, 256, 30)      0         \n",
            "                                                                 \n",
            " conv2d_1 (Conv2D)           (None, 256, 256, 30)      8130      \n",
            "                                                                 \n",
            " batch_normalization_1 (Batc  (None, 256, 256, 30)     120       \n",
            " hNormalization)                                                 \n",
            "                                                                 \n",
            " activation_1 (Activation)   (None, 256, 256, 30)      0         \n",
            "                                                                 \n",
            " max_pooling2d (MaxPooling2D  (None, 128, 128, 30)     0         \n",
            " )                                                               \n",
            "                                                                 \n",
            " conv2d_2 (Conv2D)           (None, 128, 128, 50)      13550     \n",
            "                                                                 \n",
            " batch_normalization_2 (Batc  (None, 128, 128, 50)     200       \n",
            " hNormalization)                                                 \n",
            "                                                                 \n",
            " activation_2 (Activation)   (None, 128, 128, 50)      0         \n",
            "                                                                 \n",
            " conv2d_3 (Conv2D)           (None, 128, 128, 50)      22550     \n",
            "                                                                 \n",
            " batch_normalization_3 (Batc  (None, 128, 128, 50)     200       \n",
            " hNormalization)                                                 \n",
            "                                                                 \n",
            " activation_3 (Activation)   (None, 128, 128, 50)      0         \n",
            "                                                                 \n",
            " max_pooling2d_1 (MaxPooling  (None, 64, 64, 50)       0         \n",
            " 2D)                                                             \n",
            "                                                                 \n",
            " conv2d_4 (Conv2D)           (None, 64, 64, 80)        36080     \n",
            "                                                                 \n",
            " batch_normalization_4 (Batc  (None, 64, 64, 80)       320       \n",
            " hNormalization)                                                 \n",
            "                                                                 \n",
            " activation_4 (Activation)   (None, 64, 64, 80)        0         \n",
            "                                                                 \n",
            " conv2d_5 (Conv2D)           (None, 64, 64, 80)        57680     \n",
            "                                                                 \n",
            " batch_normalization_5 (Batc  (None, 64, 64, 80)       320       \n",
            " hNormalization)                                                 \n",
            "                                                                 \n",
            " activation_5 (Activation)   (None, 64, 64, 80)        0         \n",
            "                                                                 \n",
            " max_pooling2d_2 (MaxPooling  (None, 32, 32, 80)       0         \n",
            " 2D)                                                             \n",
            "                                                                 \n",
            " flatten (Flatten)           (None, 81920)             0         \n",
            "                                                                 \n",
            " dense (Dense)               (None, 50)                4096050   \n",
            "                                                                 \n",
            " activation_6 (Activation)   (None, 50)                0         \n",
            "                                                                 \n",
            " dense_1 (Dense)             (None, 10)                510       \n",
            "                                                                 \n",
            "=================================================================\n",
            "Total params: 4,236,670\n",
            "Trainable params: 4,236,030\n",
            "Non-trainable params: 640\n",
            "_________________________________________________________________\n"
          ]
        }
      ],
      "source": [
        "pool_size = 2\n",
        "    \n",
        "model1 = Sequential([\n",
        "  keras.Input(shape=(256,256,3)),\n",
        "  Conv2D(filters = 30, kernel_size = (3,3), padding='same'),  \n",
        "  BatchNormalization(),                                       \n",
        "  Activation('relu'),\n",
        "  Conv2D(filters = 30, kernel_size = (3,3), padding='same'),  \n",
        "  BatchNormalization(),                                       \n",
        "  Activation('relu'),                                           \n",
        "  MaxPooling2D(pool_size=pool_size),                         \n",
        "\n",
        "  Conv2D(filters = 50, kernel_size = (3,3), padding='same'),\n",
        "  BatchNormalization(),\n",
        "  Activation('relu'),\n",
        "  Conv2D(filters = 50, kernel_size = (3,3), padding='same'),  \n",
        "  BatchNormalization(),                                       \n",
        "  Activation('relu'),   \n",
        "  MaxPooling2D(pool_size=pool_size),                         \n",
        "\n",
        "  Conv2D(filters = 80, kernel_size = (3,3), padding='same'),\n",
        "  BatchNormalization(),\n",
        "  Activation('relu'),\n",
        "  Conv2D(filters = 80, kernel_size = (3,3), padding='same'),  \n",
        "  BatchNormalization(),                                       \n",
        "  Activation('relu'),   \n",
        "  MaxPooling2D(pool_size=pool_size),                         \n",
        "\n",
        "  Flatten(),\n",
        "  Dense(50),\n",
        "  Activation('relu'),                                          \n",
        "  \n",
        "  Dense(10, activation='softmax'),\n",
        "])\n",
        "\n",
        "model1.summary()"
      ],
      "id": "a30f1bb5"
    },
    {
      "cell_type": "code",
      "execution_count": 9,
      "metadata": {
        "id": "1f7590b1"
      },
      "outputs": [],
      "source": [
        "model1.compile(\n",
        "  optimizer='adam',\n",
        "  loss='categorical_crossentropy',\n",
        "  metrics=['accuracy'],\n",
        ")"
      ],
      "id": "1f7590b1"
    },
    {
      "cell_type": "code",
      "execution_count": 10,
      "metadata": {
        "colab": {
          "base_uri": "https://localhost:8080/"
        },
        "id": "351412d4",
        "outputId": "0ade3f73-edcb-4c1c-9936-91afdbe98a9f"
      },
      "outputs": [
        {
          "output_type": "stream",
          "name": "stdout",
          "text": [
            "Epoch 1/30\n",
            "7/7 [==============================] - 28s 3s/step - loss: 16.0383 - accuracy: 0.2271 - val_loss: 2.5114 - val_accuracy: 0.0741\n",
            "Epoch 2/30\n",
            "7/7 [==============================] - 7s 980ms/step - loss: 3.9985 - accuracy: 0.2707 - val_loss: 3.7040 - val_accuracy: 0.0741\n",
            "Epoch 3/30\n",
            "7/7 [==============================] - 7s 962ms/step - loss: 2.1141 - accuracy: 0.4195 - val_loss: 2.3779 - val_accuracy: 0.1818\n",
            "Epoch 4/30\n",
            "7/7 [==============================] - 7s 946ms/step - loss: 1.6148 - accuracy: 0.5067 - val_loss: 2.3212 - val_accuracy: 0.1886\n",
            "Epoch 5/30\n",
            "7/7 [==============================] - 7s 943ms/step - loss: 1.3174 - accuracy: 0.5839 - val_loss: 2.3540 - val_accuracy: 0.1448\n",
            "Epoch 6/30\n",
            "7/7 [==============================] - 7s 937ms/step - loss: 1.1269 - accuracy: 0.6141 - val_loss: 2.3239 - val_accuracy: 0.0370\n",
            "Epoch 7/30\n",
            "7/7 [==============================] - 7s 941ms/step - loss: 1.0166 - accuracy: 0.6767 - val_loss: 2.3300 - val_accuracy: 0.1448\n",
            "Epoch 8/30\n",
            "7/7 [==============================] - 7s 943ms/step - loss: 0.9198 - accuracy: 0.6924 - val_loss: 2.3221 - val_accuracy: 0.1044\n",
            "Epoch 9/30\n",
            "7/7 [==============================] - 7s 950ms/step - loss: 0.8576 - accuracy: 0.7181 - val_loss: 2.3439 - val_accuracy: 0.0976\n",
            "Epoch 10/30\n",
            "7/7 [==============================] - 7s 956ms/step - loss: 0.7970 - accuracy: 0.7204 - val_loss: 2.3796 - val_accuracy: 0.0976\n",
            "Epoch 11/30\n",
            "7/7 [==============================] - 7s 958ms/step - loss: 0.7549 - accuracy: 0.7494 - val_loss: 2.3589 - val_accuracy: 0.1852\n",
            "Epoch 12/30\n",
            "7/7 [==============================] - 7s 959ms/step - loss: 0.7141 - accuracy: 0.7450 - val_loss: 2.3952 - val_accuracy: 0.1347\n",
            "Epoch 13/30\n",
            "7/7 [==============================] - 7s 961ms/step - loss: 0.6755 - accuracy: 0.7517 - val_loss: 2.3997 - val_accuracy: 0.2020\n",
            "Epoch 14/30\n",
            "7/7 [==============================] - 7s 959ms/step - loss: 0.6349 - accuracy: 0.7729 - val_loss: 2.3877 - val_accuracy: 0.1987\n",
            "Epoch 15/30\n",
            "7/7 [==============================] - 7s 957ms/step - loss: 0.5997 - accuracy: 0.7953 - val_loss: 2.3716 - val_accuracy: 0.1751\n",
            "Epoch 16/30\n",
            "7/7 [==============================] - 7s 947ms/step - loss: 0.5668 - accuracy: 0.8031 - val_loss: 2.4159 - val_accuracy: 0.2054\n",
            "Epoch 17/30\n",
            "7/7 [==============================] - 7s 950ms/step - loss: 0.5333 - accuracy: 0.8154 - val_loss: 2.4121 - val_accuracy: 0.1582\n",
            "Epoch 18/30\n",
            "7/7 [==============================] - 7s 971ms/step - loss: 0.5028 - accuracy: 0.8356 - val_loss: 2.4085 - val_accuracy: 0.1953\n",
            "Epoch 19/30\n",
            "7/7 [==============================] - 7s 951ms/step - loss: 0.4729 - accuracy: 0.8378 - val_loss: 2.3991 - val_accuracy: 0.2222\n",
            "Epoch 20/30\n",
            "7/7 [==============================] - 7s 948ms/step - loss: 0.4386 - accuracy: 0.8591 - val_loss: 2.4328 - val_accuracy: 0.2222\n",
            "Epoch 21/30\n",
            "7/7 [==============================] - 7s 949ms/step - loss: 0.4138 - accuracy: 0.8602 - val_loss: 2.4587 - val_accuracy: 0.2458\n",
            "Epoch 22/30\n",
            "7/7 [==============================] - 7s 951ms/step - loss: 0.3870 - accuracy: 0.8669 - val_loss: 2.4203 - val_accuracy: 0.2525\n",
            "Epoch 23/30\n",
            "7/7 [==============================] - 7s 947ms/step - loss: 0.3671 - accuracy: 0.8714 - val_loss: 2.4870 - val_accuracy: 0.2525\n",
            "Epoch 24/30\n",
            "7/7 [==============================] - 7s 960ms/step - loss: 0.3587 - accuracy: 0.8725 - val_loss: 2.5184 - val_accuracy: 0.2559\n",
            "Epoch 25/30\n",
            "7/7 [==============================] - 7s 945ms/step - loss: 0.3407 - accuracy: 0.8658 - val_loss: 2.4596 - val_accuracy: 0.2492\n",
            "Epoch 26/30\n",
            "7/7 [==============================] - 7s 957ms/step - loss: 0.3227 - accuracy: 0.8893 - val_loss: 2.5487 - val_accuracy: 0.2458\n",
            "Epoch 27/30\n",
            "7/7 [==============================] - 7s 955ms/step - loss: 0.3096 - accuracy: 0.8837 - val_loss: 2.4766 - val_accuracy: 0.2525\n",
            "Epoch 28/30\n",
            "7/7 [==============================] - 7s 958ms/step - loss: 0.2892 - accuracy: 0.8904 - val_loss: 2.5472 - val_accuracy: 0.2492\n",
            "Epoch 29/30\n",
            "7/7 [==============================] - 7s 956ms/step - loss: 0.2730 - accuracy: 0.8971 - val_loss: 2.4440 - val_accuracy: 0.2525\n",
            "Epoch 30/30\n",
            "7/7 [==============================] - 7s 963ms/step - loss: 0.2590 - accuracy: 0.9004 - val_loss: 2.5139 - val_accuracy: 0.2256\n"
          ]
        }
      ],
      "source": [
        "#cnn\n",
        "history1= model1.fit(\n",
        "    train_generator,\n",
        "    epochs=30,\n",
        "    validation_data=valid_generator,\n",
        "    shuffle=True)"
      ],
      "id": "351412d4"
    },
    {
      "cell_type": "markdown",
      "metadata": {
        "id": "a29eb044"
      },
      "source": [
        "### CNN+LSTM"
      ],
      "id": "a29eb044"
    },
    {
      "cell_type": "code",
      "execution_count": 11,
      "metadata": {
        "id": "e6cec0bd"
      },
      "outputs": [],
      "source": [
        "from keras.layers import Dense, Dropout, Flatten, Conv2D, BatchNormalization, MaxPooling2D,\\\n",
        "                        Permute, TimeDistributed, Bidirectional,GRU, LeakyReLU, SimpleRNN,\\\n",
        "LSTM, GlobalAveragePooling2D, SeparableConv2D, ZeroPadding2D, Reshape\n",
        "from keras import models\n",
        "from keras import layers\n",
        "import tensorflow as tf"
      ],
      "id": "e6cec0bd"
    },
    {
      "cell_type": "code",
      "execution_count": 12,
      "metadata": {
        "colab": {
          "base_uri": "https://localhost:8080/"
        },
        "id": "b9755dd6",
        "outputId": "986be132-1f93-49a5-f16e-8b4b82a79d92"
      },
      "outputs": [
        {
          "output_type": "stream",
          "name": "stderr",
          "text": [
            "WARNING:tensorflow:Layer lstm will not use cuDNN kernels since it doesn't meet the criteria. It will use a generic GPU kernel as fallback when running on GPU.\n",
            "WARNING:tensorflow:Layer lstm will not use cuDNN kernels since it doesn't meet the criteria. It will use a generic GPU kernel as fallback when running on GPU.\n",
            "WARNING:tensorflow:Layer lstm will not use cuDNN kernels since it doesn't meet the criteria. It will use a generic GPU kernel as fallback when running on GPU.\n",
            "WARNING:tensorflow:Layer lstm_1 will not use cuDNN kernels since it doesn't meet the criteria. It will use a generic GPU kernel as fallback when running on GPU.\n",
            "WARNING:tensorflow:Layer lstm_1 will not use cuDNN kernels since it doesn't meet the criteria. It will use a generic GPU kernel as fallback when running on GPU.\n",
            "WARNING:tensorflow:Layer lstm_1 will not use cuDNN kernels since it doesn't meet the criteria. It will use a generic GPU kernel as fallback when running on GPU.\n"
          ]
        }
      ],
      "source": [
        "Model = Sequential()\n",
        "\n",
        "Model.add(SeparableConv2D(12,(3,3),activation=\"relu\",\n",
        "                 input_shape=(256,256,3)))\n",
        "Model.add(BatchNormalization())\n",
        "Model.add(MaxPooling2D((2,2)))\n",
        "\n",
        "#\n",
        "Model.add(SeparableConv2D(24,(3,3),\n",
        "                 activation=\"relu\",padding=\"same\"))\n",
        "Model.add(Dropout(0.2))\n",
        "Model.add(MaxPooling2D((2,2)))\n",
        "\n",
        "#\n",
        "Model.add(TimeDistributed(Flatten()))\n",
        "Model.add(Bidirectional(LSTM(64,\n",
        "                                  return_sequences=True,\n",
        "                                  dropout=0.5,\n",
        "                                  recurrent_dropout=0.5)))\n",
        "Model.add(Bidirectional(LSTM(64,\n",
        "                                  return_sequences=True,\n",
        "                                  dropout=0.5,\n",
        "                                  recurrent_dropout=0.5)))\n",
        "\n",
        "#\n",
        "Model.add(Flatten())\n",
        "Model.add(Dense(128,activation=\"relu\"))\n",
        "Model.add(Dropout(0.5))\n",
        "Model.add(Dense(10,activation=\"sigmoid\"))"
      ],
      "id": "b9755dd6"
    },
    {
      "cell_type": "code",
      "execution_count": 13,
      "metadata": {
        "id": "071a1401"
      },
      "outputs": [],
      "source": [
        "Model.compile(\n",
        "  optimizer='adam',\n",
        "  loss='categorical_crossentropy',\n",
        "  metrics=['accuracy'],\n",
        ")"
      ],
      "id": "071a1401"
    },
    {
      "cell_type": "code",
      "execution_count": 16,
      "metadata": {
        "id": "28b29fa5"
      },
      "outputs": [],
      "source": [
        "checkpoint_filepath = '/content/drive/MyDrive/2022-2 ipynb/AISTAT/num5 data' + 'best_model_{val_accuracy:.4f}.h5'\n",
        "model_checkpoint_callback = ModelCheckpoint(\n",
        "    filepath=checkpoint_filepath,\n",
        "    save_weights_only=True,\n",
        "    monitor='val_accuracy',\n",
        "    mode='max',\n",
        "    save_best_only=True,\n",
        "    verbose=1)"
      ],
      "id": "28b29fa5"
    },
    {
      "cell_type": "code",
      "execution_count": 17,
      "metadata": {
        "colab": {
          "base_uri": "https://localhost:8080/"
        },
        "id": "6f20ae9b",
        "outputId": "4156e609-2fa5-4ac1-dbaf-655f36a0e685"
      },
      "outputs": [
        {
          "output_type": "stream",
          "name": "stdout",
          "text": [
            "Epoch 1/30\n",
            "7/7 [==============================] - 14s 2s/step - loss: 1.9191 - accuracy: 0.3221 - val_loss: 2.2672 - val_accuracy: 0.1852\n",
            "Epoch 2/30\n",
            "7/7 [==============================] - 14s 2s/step - loss: 1.5069 - accuracy: 0.4821 - val_loss: 2.2871 - val_accuracy: 0.0606\n",
            "Epoch 3/30\n",
            "7/7 [==============================] - 15s 2s/step - loss: 1.0642 - accuracy: 0.6499 - val_loss: 2.3080 - val_accuracy: 0.2357\n",
            "Epoch 4/30\n",
            "7/7 [==============================] - 14s 2s/step - loss: 0.7891 - accuracy: 0.7349 - val_loss: 2.3194 - val_accuracy: 0.2020\n",
            "Epoch 5/30\n",
            "7/7 [==============================] - 14s 2s/step - loss: 0.5551 - accuracy: 0.8244 - val_loss: 2.3754 - val_accuracy: 0.0909\n",
            "Epoch 6/30\n",
            "7/7 [==============================] - 13s 2s/step - loss: 0.3624 - accuracy: 0.8781 - val_loss: 2.3267 - val_accuracy: 0.0875\n",
            "Epoch 7/30\n",
            "7/7 [==============================] - 13s 2s/step - loss: 0.3166 - accuracy: 0.8792 - val_loss: 2.2905 - val_accuracy: 0.1481\n",
            "Epoch 8/30\n",
            "7/7 [==============================] - 14s 2s/step - loss: 0.2455 - accuracy: 0.9217 - val_loss: 2.2758 - val_accuracy: 0.2088\n",
            "Epoch 9/30\n",
            "7/7 [==============================] - 14s 2s/step - loss: 0.1739 - accuracy: 0.9452 - val_loss: 2.2700 - val_accuracy: 0.2088\n",
            "Epoch 10/30\n",
            "7/7 [==============================] - 13s 2s/step - loss: 0.1522 - accuracy: 0.9508 - val_loss: 2.3381 - val_accuracy: 0.1380\n",
            "Epoch 11/30\n",
            "7/7 [==============================] - 13s 2s/step - loss: 0.1160 - accuracy: 0.9620 - val_loss: 2.3312 - val_accuracy: 0.2357\n",
            "Epoch 12/30\n",
            "7/7 [==============================] - 13s 2s/step - loss: 0.0998 - accuracy: 0.9698 - val_loss: 2.3611 - val_accuracy: 0.2121\n",
            "Epoch 13/30\n",
            "7/7 [==============================] - 13s 2s/step - loss: 0.0761 - accuracy: 0.9810 - val_loss: 2.3215 - val_accuracy: 0.2054\n",
            "Epoch 14/30\n",
            "7/7 [==============================] - 13s 2s/step - loss: 0.0700 - accuracy: 0.9799 - val_loss: 2.3050 - val_accuracy: 0.1987\n",
            "Epoch 15/30\n",
            "7/7 [==============================] - 14s 2s/step - loss: 0.0700 - accuracy: 0.9776 - val_loss: 2.3883 - val_accuracy: 0.1852\n",
            "Epoch 16/30\n",
            "7/7 [==============================] - 13s 2s/step - loss: 0.0708 - accuracy: 0.9765 - val_loss: 2.3380 - val_accuracy: 0.2323\n",
            "Epoch 17/30\n",
            "7/7 [==============================] - 14s 2s/step - loss: 0.0541 - accuracy: 0.9799 - val_loss: 2.2657 - val_accuracy: 0.2795\n",
            "Epoch 18/30\n",
            "7/7 [==============================] - 13s 2s/step - loss: 0.0401 - accuracy: 0.9899 - val_loss: 2.3097 - val_accuracy: 0.2694\n",
            "Epoch 19/30\n",
            "7/7 [==============================] - 13s 2s/step - loss: 0.0329 - accuracy: 0.9899 - val_loss: 2.3354 - val_accuracy: 0.2559\n",
            "Epoch 20/30\n",
            "7/7 [==============================] - 14s 2s/step - loss: 0.0376 - accuracy: 0.9922 - val_loss: 2.3804 - val_accuracy: 0.2660\n",
            "Epoch 21/30\n",
            "7/7 [==============================] - 13s 2s/step - loss: 0.0322 - accuracy: 0.9911 - val_loss: 2.4640 - val_accuracy: 0.2189\n",
            "Epoch 22/30\n",
            "7/7 [==============================] - 13s 2s/step - loss: 0.0336 - accuracy: 0.9922 - val_loss: 2.3943 - val_accuracy: 0.2963\n",
            "Epoch 23/30\n",
            "7/7 [==============================] - 13s 2s/step - loss: 0.0345 - accuracy: 0.9888 - val_loss: 2.4366 - val_accuracy: 0.3333\n",
            "Epoch 24/30\n",
            "7/7 [==============================] - 13s 2s/step - loss: 0.0246 - accuracy: 0.9933 - val_loss: 2.5509 - val_accuracy: 0.2761\n",
            "Epoch 25/30\n",
            "7/7 [==============================] - 13s 2s/step - loss: 0.0192 - accuracy: 0.9955 - val_loss: 2.4846 - val_accuracy: 0.3098\n",
            "Epoch 26/30\n",
            "7/7 [==============================] - 14s 2s/step - loss: 0.0232 - accuracy: 0.9933 - val_loss: 2.5171 - val_accuracy: 0.3064\n",
            "Epoch 27/30\n",
            "7/7 [==============================] - 14s 2s/step - loss: 0.0231 - accuracy: 0.9933 - val_loss: 2.5173 - val_accuracy: 0.2997\n",
            "Epoch 28/30\n",
            "7/7 [==============================] - 13s 2s/step - loss: 0.0356 - accuracy: 0.9922 - val_loss: 2.5402 - val_accuracy: 0.3098\n",
            "Epoch 29/30\n",
            "7/7 [==============================] - 13s 2s/step - loss: 0.0233 - accuracy: 0.9922 - val_loss: 2.5955 - val_accuracy: 0.3165\n",
            "Epoch 30/30\n",
            "7/7 [==============================] - 13s 2s/step - loss: 0.0210 - accuracy: 0.9877 - val_loss: 2.5266 - val_accuracy: 0.3199\n"
          ]
        }
      ],
      "source": [
        "history2= Model.fit(\n",
        "    train_generator,\n",
        "    epochs=30,\n",
        "    validation_data=valid_generator,\n",
        "    shuffle=True)"
      ],
      "id": "6f20ae9b"
    },
    {
      "cell_type": "markdown",
      "metadata": {
        "id": "af72cb59"
      },
      "source": [
        "### VGG16\n",
        "- 하려다가 실패함"
      ],
      "id": "af72cb59"
    },
    {
      "cell_type": "code",
      "execution_count": null,
      "metadata": {
        "id": "a6f4356a"
      },
      "outputs": [],
      "source": [
        "from keras.applications.vgg16 import VGG16"
      ],
      "id": "a6f4356a"
    },
    {
      "cell_type": "code",
      "execution_count": null,
      "metadata": {
        "id": "53311144"
      },
      "outputs": [],
      "source": [
        "base_model = VGG16(weights='imagenet', include_top=False, input_shape=(256,256,3), classes=10)"
      ],
      "id": "53311144"
    },
    {
      "cell_type": "code",
      "execution_count": null,
      "metadata": {
        "id": "67222d57"
      },
      "outputs": [],
      "source": [
        "base_model.trainable = False"
      ],
      "id": "67222d57"
    },
    {
      "cell_type": "code",
      "execution_count": null,
      "metadata": {
        "id": "ae7dfd84"
      },
      "outputs": [],
      "source": [
        "base_model.compile(\n",
        "  optimizer='adam',\n",
        "  loss='categorical_crossentropy',\n",
        "  metrics=['accuracy'],\n",
        ")"
      ],
      "id": "ae7dfd84"
    },
    {
      "cell_type": "code",
      "execution_count": null,
      "metadata": {
        "id": "791abde9"
      },
      "outputs": [],
      "source": [
        "history3= base_model.fit(\n",
        "    train_generator,\n",
        "    epochs=10,\n",
        "    validation_data=valid_generator,\n",
        "    shuffle=True)"
      ],
      "id": "791abde9"
    }
  ],
  "metadata": {
    "accelerator": "GPU",
    "colab": {
      "provenance": [],
      "include_colab_link": true
    },
    "gpuClass": "standard",
    "kernelspec": {
      "display_name": "Python 3 (ipykernel)",
      "language": "python",
      "name": "python3"
    },
    "language_info": {
      "codemirror_mode": {
        "name": "ipython",
        "version": 3
      },
      "file_extension": ".py",
      "mimetype": "text/x-python",
      "name": "python",
      "nbconvert_exporter": "python",
      "pygments_lexer": "ipython3",
      "version": "3.9.13"
    }
  },
  "nbformat": 4,
  "nbformat_minor": 5
}